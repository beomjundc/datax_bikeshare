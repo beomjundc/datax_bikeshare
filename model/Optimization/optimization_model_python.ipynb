{
 "cells": [
  {
   "cell_type": "code",
   "execution_count": 239,
   "metadata": {},
   "outputs": [],
   "source": [
    "import numpy as np\n",
    "import pandas as pd\n",
    "import matplotlib.pyplot as plt\n",
    "from IPython.display import Image\n",
    "\n",
    "%matplotlib inline"
   ]
  },
  {
   "cell_type": "markdown",
   "metadata": {},
   "source": [
    "# Data Consolidation for Optimization Modeling"
   ]
  },
  {
   "cell_type": "code",
   "execution_count": 240,
   "metadata": {},
   "outputs": [
    {
     "data": {
      "text/html": [
       "<div>\n",
       "<style scoped>\n",
       "    .dataframe tbody tr th:only-of-type {\n",
       "        vertical-align: middle;\n",
       "    }\n",
       "\n",
       "    .dataframe tbody tr th {\n",
       "        vertical-align: top;\n",
       "    }\n",
       "\n",
       "    .dataframe thead th {\n",
       "        text-align: right;\n",
       "    }\n",
       "</style>\n",
       "<table border=\"1\" class=\"dataframe\">\n",
       "  <thead>\n",
       "    <tr style=\"text-align: right;\">\n",
       "      <th></th>\n",
       "      <th>Unnamed: 0</th>\n",
       "      <th>start_date</th>\n",
       "      <th>temperature</th>\n",
       "      <th>wind</th>\n",
       "      <th>precip_</th>\n",
       "      <th>station_id</th>\n",
       "      <th>station_cap</th>\n",
       "      <th>station_has_kiosk</th>\n",
       "      <th>trip_count_out</th>\n",
       "      <th>trip_count_in</th>\n",
       "      <th>...</th>\n",
       "      <th>station_cluster_7</th>\n",
       "      <th>station_cluster_8</th>\n",
       "      <th>start_dow_Friday</th>\n",
       "      <th>start_dow_Monday</th>\n",
       "      <th>start_dow_Saturday</th>\n",
       "      <th>start_dow_Sunday</th>\n",
       "      <th>start_dow_Thursday</th>\n",
       "      <th>start_dow_Tuesday</th>\n",
       "      <th>start_dow_Wednesday</th>\n",
       "      <th>trip_count_predicted</th>\n",
       "    </tr>\n",
       "  </thead>\n",
       "  <tbody>\n",
       "    <tr>\n",
       "      <th>0</th>\n",
       "      <td>93988</td>\n",
       "      <td>2019-03-01 00:00:00+00:00</td>\n",
       "      <td>53.013773</td>\n",
       "      <td>0.999165</td>\n",
       "      <td>0.0</td>\n",
       "      <td>3</td>\n",
       "      <td>35</td>\n",
       "      <td>True</td>\n",
       "      <td>66.0</td>\n",
       "      <td>61.0</td>\n",
       "      <td>...</td>\n",
       "      <td>0</td>\n",
       "      <td>0</td>\n",
       "      <td>1</td>\n",
       "      <td>0</td>\n",
       "      <td>0</td>\n",
       "      <td>0</td>\n",
       "      <td>0</td>\n",
       "      <td>0</td>\n",
       "      <td>0</td>\n",
       "      <td>-4.0</td>\n",
       "    </tr>\n",
       "    <tr>\n",
       "      <th>1</th>\n",
       "      <td>93989</td>\n",
       "      <td>2019-03-01 00:00:00+00:00</td>\n",
       "      <td>53.013773</td>\n",
       "      <td>0.999165</td>\n",
       "      <td>0.0</td>\n",
       "      <td>4</td>\n",
       "      <td>35</td>\n",
       "      <td>True</td>\n",
       "      <td>13.0</td>\n",
       "      <td>17.0</td>\n",
       "      <td>...</td>\n",
       "      <td>0</td>\n",
       "      <td>0</td>\n",
       "      <td>1</td>\n",
       "      <td>0</td>\n",
       "      <td>0</td>\n",
       "      <td>0</td>\n",
       "      <td>0</td>\n",
       "      <td>0</td>\n",
       "      <td>0</td>\n",
       "      <td>4.0</td>\n",
       "    </tr>\n",
       "    <tr>\n",
       "      <th>2</th>\n",
       "      <td>93990</td>\n",
       "      <td>2019-03-01 00:00:00+00:00</td>\n",
       "      <td>53.013773</td>\n",
       "      <td>0.999165</td>\n",
       "      <td>0.0</td>\n",
       "      <td>5</td>\n",
       "      <td>35</td>\n",
       "      <td>True</td>\n",
       "      <td>50.0</td>\n",
       "      <td>53.0</td>\n",
       "      <td>...</td>\n",
       "      <td>0</td>\n",
       "      <td>0</td>\n",
       "      <td>1</td>\n",
       "      <td>0</td>\n",
       "      <td>0</td>\n",
       "      <td>0</td>\n",
       "      <td>0</td>\n",
       "      <td>0</td>\n",
       "      <td>0</td>\n",
       "      <td>10.0</td>\n",
       "    </tr>\n",
       "    <tr>\n",
       "      <th>3</th>\n",
       "      <td>93991</td>\n",
       "      <td>2019-03-01 00:00:00+00:00</td>\n",
       "      <td>53.013773</td>\n",
       "      <td>0.999165</td>\n",
       "      <td>0.0</td>\n",
       "      <td>6</td>\n",
       "      <td>23</td>\n",
       "      <td>True</td>\n",
       "      <td>48.0</td>\n",
       "      <td>37.0</td>\n",
       "      <td>...</td>\n",
       "      <td>0</td>\n",
       "      <td>0</td>\n",
       "      <td>1</td>\n",
       "      <td>0</td>\n",
       "      <td>0</td>\n",
       "      <td>0</td>\n",
       "      <td>0</td>\n",
       "      <td>0</td>\n",
       "      <td>0</td>\n",
       "      <td>-8.0</td>\n",
       "    </tr>\n",
       "    <tr>\n",
       "      <th>4</th>\n",
       "      <td>93992</td>\n",
       "      <td>2019-03-01 00:00:00+00:00</td>\n",
       "      <td>53.013773</td>\n",
       "      <td>0.999165</td>\n",
       "      <td>0.0</td>\n",
       "      <td>8</td>\n",
       "      <td>23</td>\n",
       "      <td>True</td>\n",
       "      <td>22.0</td>\n",
       "      <td>7.0</td>\n",
       "      <td>...</td>\n",
       "      <td>0</td>\n",
       "      <td>0</td>\n",
       "      <td>1</td>\n",
       "      <td>0</td>\n",
       "      <td>0</td>\n",
       "      <td>0</td>\n",
       "      <td>0</td>\n",
       "      <td>0</td>\n",
       "      <td>0</td>\n",
       "      <td>-13.0</td>\n",
       "    </tr>\n",
       "  </tbody>\n",
       "</table>\n",
       "<p>5 rows × 39 columns</p>\n",
       "</div>"
      ],
      "text/plain": [
       "   Unnamed: 0                 start_date  temperature      wind  precip_  \\\n",
       "0       93988  2019-03-01 00:00:00+00:00    53.013773  0.999165      0.0   \n",
       "1       93989  2019-03-01 00:00:00+00:00    53.013773  0.999165      0.0   \n",
       "2       93990  2019-03-01 00:00:00+00:00    53.013773  0.999165      0.0   \n",
       "3       93991  2019-03-01 00:00:00+00:00    53.013773  0.999165      0.0   \n",
       "4       93992  2019-03-01 00:00:00+00:00    53.013773  0.999165      0.0   \n",
       "\n",
       "   station_id  station_cap  station_has_kiosk  trip_count_out  trip_count_in  \\\n",
       "0           3           35               True            66.0           61.0   \n",
       "1           4           35               True            13.0           17.0   \n",
       "2           5           35               True            50.0           53.0   \n",
       "3           6           23               True            48.0           37.0   \n",
       "4           8           23               True            22.0            7.0   \n",
       "\n",
       "           ...           station_cluster_7  station_cluster_8  \\\n",
       "0          ...                           0                  0   \n",
       "1          ...                           0                  0   \n",
       "2          ...                           0                  0   \n",
       "3          ...                           0                  0   \n",
       "4          ...                           0                  0   \n",
       "\n",
       "   start_dow_Friday  start_dow_Monday  start_dow_Saturday  start_dow_Sunday  \\\n",
       "0                 1                 0                   0                 0   \n",
       "1                 1                 0                   0                 0   \n",
       "2                 1                 0                   0                 0   \n",
       "3                 1                 0                   0                 0   \n",
       "4                 1                 0                   0                 0   \n",
       "\n",
       "   start_dow_Thursday  start_dow_Tuesday  start_dow_Wednesday  \\\n",
       "0                   0                  0                    0   \n",
       "1                   0                  0                    0   \n",
       "2                   0                  0                    0   \n",
       "3                   0                  0                    0   \n",
       "4                   0                  0                    0   \n",
       "\n",
       "   trip_count_predicted  \n",
       "0                  -4.0  \n",
       "1                   4.0  \n",
       "2                  10.0  \n",
       "3                  -8.0  \n",
       "4                 -13.0  \n",
       "\n",
       "[5 rows x 39 columns]"
      ]
     },
     "execution_count": 240,
     "metadata": {},
     "output_type": "execute_result"
    }
   ],
   "source": [
    "#Trip prediction data for 1/31/2019\n",
    "path = \"trips_final_20190301_20190331_v2.csv\"\n",
    "data = pd.read_csv(path)\n",
    "data.head()"
   ]
  },
  {
   "cell_type": "code",
   "execution_count": 241,
   "metadata": {},
   "outputs": [
    {
     "data": {
      "text/html": [
       "<div>\n",
       "<style scoped>\n",
       "    .dataframe tbody tr th:only-of-type {\n",
       "        vertical-align: middle;\n",
       "    }\n",
       "\n",
       "    .dataframe tbody tr th {\n",
       "        vertical-align: top;\n",
       "    }\n",
       "\n",
       "    .dataframe thead th {\n",
       "        text-align: right;\n",
       "    }\n",
       "</style>\n",
       "<table border=\"1\" class=\"dataframe\">\n",
       "  <thead>\n",
       "    <tr style=\"text-align: right;\">\n",
       "      <th></th>\n",
       "      <th>net</th>\n",
       "    </tr>\n",
       "    <tr>\n",
       "      <th>station_id</th>\n",
       "      <th></th>\n",
       "    </tr>\n",
       "  </thead>\n",
       "  <tbody>\n",
       "    <tr>\n",
       "      <th>3</th>\n",
       "      <td>8.0</td>\n",
       "    </tr>\n",
       "    <tr>\n",
       "      <th>4</th>\n",
       "      <td>2.0</td>\n",
       "    </tr>\n",
       "    <tr>\n",
       "      <th>5</th>\n",
       "      <td>0.0</td>\n",
       "    </tr>\n",
       "    <tr>\n",
       "      <th>6</th>\n",
       "      <td>7.0</td>\n",
       "    </tr>\n",
       "    <tr>\n",
       "      <th>8</th>\n",
       "      <td>8.0</td>\n",
       "    </tr>\n",
       "  </tbody>\n",
       "</table>\n",
       "</div>"
      ],
      "text/plain": [
       "            net\n",
       "station_id     \n",
       "3           8.0\n",
       "4           2.0\n",
       "5           0.0\n",
       "6           7.0\n",
       "8           8.0"
      ]
     },
     "execution_count": 241,
     "metadata": {},
     "output_type": "execute_result"
    }
   ],
   "source": [
    "#Net flow predicted for all stations on 03/31/2019\n",
    "data_3_31_morning = data[(data['start_date'].str.match('2019-03-31')) & (data['start_period_morning']==1)]\n",
    "bike_flow = data_3_31_morning['trip_count_predicted'].to_frame()\n",
    "bike_flow.set_index(data_3_31_morning['station_id'], inplace=True)\n",
    "bike_flow.columns = ['net']\n",
    "bike_flow.head()"
   ]
  },
  {
   "cell_type": "markdown",
   "metadata": {},
   "source": [
    "# Filter data to focus on most critically imbalanced stations"
   ]
  },
  {
   "cell_type": "code",
   "execution_count": 242,
   "metadata": {},
   "outputs": [],
   "source": [
    "minflow, maxflow = -3, 3"
   ]
  },
  {
   "cell_type": "markdown",
   "metadata": {},
   "source": [
    "I decided to focus on stations with a net bike flow outside of the range (-3,3) because those are the most unbalanced, and an LP solver will take far too long if it included every station. A plot below shows red dots, which will be the stations to focus on."
   ]
  },
  {
   "cell_type": "code",
   "execution_count": 243,
   "metadata": {},
   "outputs": [
    {
     "data": {
      "image/png": "[encoded data removed]",
      "text/plain": [
       "<Figure size 720x576 with 1 Axes>"
      ]
     },
     "metadata": {
      "needs_background": "light"
     },
     "output_type": "display_data"
    }
   ],
   "source": [
    "x = bike_flow.index\n",
    "y = bike_flow['net'].values\n",
    "\n",
    "plt.figure(figsize=(10,8))\n",
    "plt.xlabel('Station No.', fontsize=18)\n",
    "plt.ylabel('Net Bike Flow (In - Out)', fontsize=18)\n",
    "plt.ylim(-20,20)\n",
    "plt.plot([-10, 400], [maxflow, maxflow], color='k', linestyle='--', linewidth=2)\n",
    "plt.plot([-10, 400], [minflow, minflow], color='k', linestyle='--', linewidth=2)\n",
    "col = np.where(x<0,'k',np.where(np.logical_or(y>maxflow,y<minflow),'r','g'))\n",
    "plt.scatter(x,y, color=col);"
   ]
  },
  {
   "cell_type": "code",
   "execution_count": 244,
   "metadata": {},
   "outputs": [
    {
     "data": {
      "text/plain": [
       "station_id\n",
       "3      8.0\n",
       "6      7.0\n",
       "8      8.0\n",
       "15     4.0\n",
       "20     4.0\n",
       "88     4.0\n",
       "104    5.0\n",
       "350    4.0\n",
       "Name: net, dtype: float64"
      ]
     },
     "execution_count": 244,
     "metadata": {},
     "output_type": "execute_result"
    }
   ],
   "source": [
    "#Create source dataframe, with all stations that have large in-traffic\n",
    "source_flow = bike_flow[bike_flow['net']>maxflow]\n",
    "source_flow['net']"
   ]
  },
  {
   "cell_type": "code",
   "execution_count": 245,
   "metadata": {},
   "outputs": [
    {
     "data": {
      "text/plain": [
       "8"
      ]
     },
     "execution_count": 245,
     "metadata": {},
     "output_type": "execute_result"
    }
   ],
   "source": [
    "source_flow.shape[0]"
   ]
  },
  {
   "cell_type": "code",
   "execution_count": 246,
   "metadata": {},
   "outputs": [
    {
     "data": {
      "text/plain": [
       "station_id\n",
       "21    -4.0\n",
       "52    -4.0\n",
       "71    -4.0\n",
       "72    -4.0\n",
       "86    -4.0\n",
       "139   -4.0\n",
       "321   -4.0\n",
       "345   -5.0\n",
       "369   -4.0\n",
       "370   -4.0\n",
       "375   -4.0\n",
       "Name: net, dtype: float64"
      ]
     },
     "execution_count": 246,
     "metadata": {},
     "output_type": "execute_result"
    }
   ],
   "source": [
    "#Create sink dataframe, with all stations that have large out-traffic\n",
    "sink_flow = bike_flow[bike_flow['net']<minflow]\n",
    "sink_flow['net']"
   ]
  },
  {
   "cell_type": "code",
   "execution_count": 247,
   "metadata": {},
   "outputs": [
    {
     "data": {
      "text/plain": [
       "11"
      ]
     },
     "execution_count": 247,
     "metadata": {},
     "output_type": "execute_result"
    }
   ],
   "source": [
    "sink_flow.shape[0]"
   ]
  },
  {
   "cell_type": "markdown",
   "metadata": {},
   "source": [
    "# Calculate Distances Between Relevant Stations"
   ]
  },
  {
   "cell_type": "code",
   "execution_count": 248,
   "metadata": {},
   "outputs": [
    {
     "data": {
      "text/html": [
       "<div>\n",
       "<style scoped>\n",
       "    .dataframe tbody tr th:only-of-type {\n",
       "        vertical-align: middle;\n",
       "    }\n",
       "\n",
       "    .dataframe tbody tr th {\n",
       "        vertical-align: top;\n",
       "    }\n",
       "\n",
       "    .dataframe thead th {\n",
       "        text-align: right;\n",
       "    }\n",
       "</style>\n",
       "<table border=\"1\" class=\"dataframe\">\n",
       "  <thead>\n",
       "    <tr style=\"text-align: right;\">\n",
       "      <th></th>\n",
       "      <th>start_station_latitude</th>\n",
       "      <th>start_station_longitude</th>\n",
       "    </tr>\n",
       "    <tr>\n",
       "      <th>start_station_id</th>\n",
       "      <th></th>\n",
       "      <th></th>\n",
       "    </tr>\n",
       "  </thead>\n",
       "  <tbody>\n",
       "    <tr>\n",
       "      <th>3</th>\n",
       "      <td>37.786375</td>\n",
       "      <td>-122.404904</td>\n",
       "    </tr>\n",
       "    <tr>\n",
       "      <th>4</th>\n",
       "      <td>37.785881</td>\n",
       "      <td>-122.408915</td>\n",
       "    </tr>\n",
       "    <tr>\n",
       "      <th>5</th>\n",
       "      <td>37.783899</td>\n",
       "      <td>-122.408445</td>\n",
       "    </tr>\n",
       "    <tr>\n",
       "      <th>6</th>\n",
       "      <td>37.804770</td>\n",
       "      <td>-122.403234</td>\n",
       "    </tr>\n",
       "    <tr>\n",
       "      <th>7</th>\n",
       "      <td>37.804562</td>\n",
       "      <td>-122.271738</td>\n",
       "    </tr>\n",
       "  </tbody>\n",
       "</table>\n",
       "</div>"
      ],
      "text/plain": [
       "                  start_station_latitude  start_station_longitude\n",
       "start_station_id                                                 \n",
       "3                              37.786375              -122.404904\n",
       "4                              37.785881              -122.408915\n",
       "5                              37.783899              -122.408445\n",
       "6                              37.804770              -122.403234\n",
       "7                              37.804562              -122.271738"
      ]
     },
     "execution_count": 248,
     "metadata": {},
     "output_type": "execute_result"
    }
   ],
   "source": [
    "#Get locations of all stations (for distance calculation)\n",
    "path2 = \"trip_summary_201901.csv\"\n",
    "locations = pd.read_csv(path2)\n",
    "cols = ['start_station_id', 'start_station_latitude', 'start_station_longitude']\n",
    "locations = locations[cols].drop_duplicates().set_index('start_station_id').sort_index()\n",
    "locations.head()"
   ]
  },
  {
   "cell_type": "code",
   "execution_count": 249,
   "metadata": {},
   "outputs": [],
   "source": [
    "#Function to calculate distance between two stations\n",
    "def distance(station1id, station2id):\n",
    "    a = locations.loc[station1id].values\n",
    "    b = locations.loc[station2id].values\n",
    "    return np.linalg.norm(a-b)"
   ]
  },
  {
   "cell_type": "code",
   "execution_count": 250,
   "metadata": {},
   "outputs": [
    {
     "data": {
      "text/html": [
       "<div>\n",
       "<style scoped>\n",
       "    .dataframe tbody tr th:only-of-type {\n",
       "        vertical-align: middle;\n",
       "    }\n",
       "\n",
       "    .dataframe tbody tr th {\n",
       "        vertical-align: top;\n",
       "    }\n",
       "\n",
       "    .dataframe thead th {\n",
       "        text-align: right;\n",
       "    }\n",
       "</style>\n",
       "<table border=\"1\" class=\"dataframe\">\n",
       "  <thead>\n",
       "    <tr style=\"text-align: right;\">\n",
       "      <th></th>\n",
       "      <th>source</th>\n",
       "      <th>sink</th>\n",
       "      <th>distance</th>\n",
       "    </tr>\n",
       "  </thead>\n",
       "  <tbody>\n",
       "    <tr>\n",
       "      <th>0</th>\n",
       "      <td>3.0</td>\n",
       "      <td>21.0</td>\n",
       "      <td>0.005227</td>\n",
       "    </tr>\n",
       "    <tr>\n",
       "      <th>1</th>\n",
       "      <td>3.0</td>\n",
       "      <td>52.0</td>\n",
       "      <td>0.038004</td>\n",
       "    </tr>\n",
       "    <tr>\n",
       "      <th>2</th>\n",
       "      <td>3.0</td>\n",
       "      <td>71.0</td>\n",
       "      <td>0.036675</td>\n",
       "    </tr>\n",
       "    <tr>\n",
       "      <th>3</th>\n",
       "      <td>3.0</td>\n",
       "      <td>72.0</td>\n",
       "      <td>0.033770</td>\n",
       "    </tr>\n",
       "    <tr>\n",
       "      <th>4</th>\n",
       "      <td>3.0</td>\n",
       "      <td>86.0</td>\n",
       "      <td>0.027784</td>\n",
       "    </tr>\n",
       "  </tbody>\n",
       "</table>\n",
       "</div>"
      ],
      "text/plain": [
       "   source  sink  distance\n",
       "0     3.0  21.0  0.005227\n",
       "1     3.0  52.0  0.038004\n",
       "2     3.0  71.0  0.036675\n",
       "3     3.0  72.0  0.033770\n",
       "4     3.0  86.0  0.027784"
      ]
     },
     "execution_count": 250,
     "metadata": {},
     "output_type": "execute_result"
    }
   ],
   "source": [
    "#Build a DataFrame of distances for all source-sink combinations\n",
    "distances = pd.DataFrame(columns=['source','sink','distance'])\n",
    "for i in source_flow.index:\n",
    "    for j in sink_flow.index:\n",
    "        distances = distances.append({'source': int(i), 'sink': int(j), 'distance': distance(i,j)}, ignore_index=True)\n",
    "distances.head()"
   ]
  },
  {
   "cell_type": "code",
   "execution_count": 251,
   "metadata": {},
   "outputs": [],
   "source": [
    "#Pivot data for more organized format\n",
    "distances1 = distances.pivot(index='source',columns='sink',values='distance')\n",
    "#distances.to_csv(\"distances.csv\")\n",
    "distances2 = pd.DataFrame(distances1)\n"
   ]
  },
  {
   "cell_type": "markdown",
   "metadata": {},
   "source": [
    "# Python Optimization"
   ]
  },
  {
   "cell_type": "code",
   "execution_count": 252,
   "metadata": {},
   "outputs": [
    {
     "data": {
      "text/html": [
       "<div>\n",
       "<style scoped>\n",
       "    .dataframe tbody tr th:only-of-type {\n",
       "        vertical-align: middle;\n",
       "    }\n",
       "\n",
       "    .dataframe tbody tr th {\n",
       "        vertical-align: top;\n",
       "    }\n",
       "\n",
       "    .dataframe thead th {\n",
       "        text-align: right;\n",
       "    }\n",
       "</style>\n",
       "<table border=\"1\" class=\"dataframe\">\n",
       "  <thead>\n",
       "    <tr style=\"text-align: right;\">\n",
       "      <th></th>\n",
       "      <th>source</th>\n",
       "      <th>sink</th>\n",
       "      <th>distance</th>\n",
       "      <th>var_name</th>\n",
       "    </tr>\n",
       "  </thead>\n",
       "  <tbody>\n",
       "    <tr>\n",
       "      <th>0</th>\n",
       "      <td>3.0</td>\n",
       "      <td>21.0</td>\n",
       "      <td>0.005227</td>\n",
       "      <td>3.0_21.0</td>\n",
       "    </tr>\n",
       "    <tr>\n",
       "      <th>1</th>\n",
       "      <td>3.0</td>\n",
       "      <td>52.0</td>\n",
       "      <td>0.038004</td>\n",
       "      <td>3.0_52.0</td>\n",
       "    </tr>\n",
       "    <tr>\n",
       "      <th>2</th>\n",
       "      <td>3.0</td>\n",
       "      <td>71.0</td>\n",
       "      <td>0.036675</td>\n",
       "      <td>3.0_71.0</td>\n",
       "    </tr>\n",
       "    <tr>\n",
       "      <th>3</th>\n",
       "      <td>3.0</td>\n",
       "      <td>72.0</td>\n",
       "      <td>0.033770</td>\n",
       "      <td>3.0_72.0</td>\n",
       "    </tr>\n",
       "    <tr>\n",
       "      <th>4</th>\n",
       "      <td>3.0</td>\n",
       "      <td>86.0</td>\n",
       "      <td>0.027784</td>\n",
       "      <td>3.0_86.0</td>\n",
       "    </tr>\n",
       "  </tbody>\n",
       "</table>\n",
       "</div>"
      ],
      "text/plain": [
       "   source  sink  distance  var_name\n",
       "0     3.0  21.0  0.005227  3.0_21.0\n",
       "1     3.0  52.0  0.038004  3.0_52.0\n",
       "2     3.0  71.0  0.036675  3.0_71.0\n",
       "3     3.0  72.0  0.033770  3.0_72.0\n",
       "4     3.0  86.0  0.027784  3.0_86.0"
      ]
     },
     "execution_count": 252,
     "metadata": {},
     "output_type": "execute_result"
    }
   ],
   "source": [
    "distances['var_name'] = distances['source'].astype(str) + '_' + distances['sink'].astype(str)\n",
    "distances.head()"
   ]
  },
  {
   "cell_type": "code",
   "execution_count": 253,
   "metadata": {},
   "outputs": [
    {
     "data": {
      "text/html": [
       "<div>\n",
       "<style scoped>\n",
       "    .dataframe tbody tr th:only-of-type {\n",
       "        vertical-align: middle;\n",
       "    }\n",
       "\n",
       "    .dataframe tbody tr th {\n",
       "        vertical-align: top;\n",
       "    }\n",
       "\n",
       "    .dataframe thead th {\n",
       "        text-align: right;\n",
       "    }\n",
       "</style>\n",
       "<table border=\"1\" class=\"dataframe\">\n",
       "  <thead>\n",
       "    <tr style=\"text-align: right;\">\n",
       "      <th></th>\n",
       "      <th>net</th>\n",
       "    </tr>\n",
       "    <tr>\n",
       "      <th>station_id</th>\n",
       "      <th></th>\n",
       "    </tr>\n",
       "  </thead>\n",
       "  <tbody>\n",
       "    <tr>\n",
       "      <th>21</th>\n",
       "      <td>-4.0</td>\n",
       "    </tr>\n",
       "    <tr>\n",
       "      <th>52</th>\n",
       "      <td>-4.0</td>\n",
       "    </tr>\n",
       "    <tr>\n",
       "      <th>71</th>\n",
       "      <td>-4.0</td>\n",
       "    </tr>\n",
       "    <tr>\n",
       "      <th>72</th>\n",
       "      <td>-4.0</td>\n",
       "    </tr>\n",
       "    <tr>\n",
       "      <th>86</th>\n",
       "      <td>-4.0</td>\n",
       "    </tr>\n",
       "    <tr>\n",
       "      <th>139</th>\n",
       "      <td>-4.0</td>\n",
       "    </tr>\n",
       "    <tr>\n",
       "      <th>321</th>\n",
       "      <td>-4.0</td>\n",
       "    </tr>\n",
       "    <tr>\n",
       "      <th>345</th>\n",
       "      <td>-5.0</td>\n",
       "    </tr>\n",
       "    <tr>\n",
       "      <th>369</th>\n",
       "      <td>-4.0</td>\n",
       "    </tr>\n",
       "    <tr>\n",
       "      <th>370</th>\n",
       "      <td>-4.0</td>\n",
       "    </tr>\n",
       "    <tr>\n",
       "      <th>375</th>\n",
       "      <td>-4.0</td>\n",
       "    </tr>\n",
       "  </tbody>\n",
       "</table>\n",
       "</div>"
      ],
      "text/plain": [
       "            net\n",
       "station_id     \n",
       "21         -4.0\n",
       "52         -4.0\n",
       "71         -4.0\n",
       "72         -4.0\n",
       "86         -4.0\n",
       "139        -4.0\n",
       "321        -4.0\n",
       "345        -5.0\n",
       "369        -4.0\n",
       "370        -4.0\n",
       "375        -4.0"
      ]
     },
     "execution_count": 253,
     "metadata": {},
     "output_type": "execute_result"
    }
   ],
   "source": [
    "sink_flow"
   ]
  },
  {
   "cell_type": "code",
   "execution_count": 254,
   "metadata": {},
   "outputs": [
    {
     "data": {
      "text/html": [
       "<div>\n",
       "<style scoped>\n",
       "    .dataframe tbody tr th:only-of-type {\n",
       "        vertical-align: middle;\n",
       "    }\n",
       "\n",
       "    .dataframe tbody tr th {\n",
       "        vertical-align: top;\n",
       "    }\n",
       "\n",
       "    .dataframe thead th {\n",
       "        text-align: right;\n",
       "    }\n",
       "</style>\n",
       "<table border=\"1\" class=\"dataframe\">\n",
       "  <thead>\n",
       "    <tr style=\"text-align: right;\">\n",
       "      <th></th>\n",
       "      <th>net</th>\n",
       "    </tr>\n",
       "    <tr>\n",
       "      <th>station_id</th>\n",
       "      <th></th>\n",
       "    </tr>\n",
       "  </thead>\n",
       "  <tbody>\n",
       "    <tr>\n",
       "      <th>3</th>\n",
       "      <td>8.0</td>\n",
       "    </tr>\n",
       "    <tr>\n",
       "      <th>6</th>\n",
       "      <td>7.0</td>\n",
       "    </tr>\n",
       "    <tr>\n",
       "      <th>8</th>\n",
       "      <td>8.0</td>\n",
       "    </tr>\n",
       "    <tr>\n",
       "      <th>15</th>\n",
       "      <td>4.0</td>\n",
       "    </tr>\n",
       "    <tr>\n",
       "      <th>20</th>\n",
       "      <td>4.0</td>\n",
       "    </tr>\n",
       "    <tr>\n",
       "      <th>88</th>\n",
       "      <td>4.0</td>\n",
       "    </tr>\n",
       "    <tr>\n",
       "      <th>104</th>\n",
       "      <td>5.0</td>\n",
       "    </tr>\n",
       "    <tr>\n",
       "      <th>350</th>\n",
       "      <td>4.0</td>\n",
       "    </tr>\n",
       "  </tbody>\n",
       "</table>\n",
       "</div>"
      ],
      "text/plain": [
       "            net\n",
       "station_id     \n",
       "3           8.0\n",
       "6           7.0\n",
       "8           8.0\n",
       "15          4.0\n",
       "20          4.0\n",
       "88          4.0\n",
       "104         5.0\n",
       "350         4.0"
      ]
     },
     "execution_count": 254,
     "metadata": {},
     "output_type": "execute_result"
    }
   ],
   "source": [
    "source_flow"
   ]
  },
  {
   "cell_type": "code",
   "execution_count": 255,
   "metadata": {},
   "outputs": [],
   "source": [
    "from ortools.sat.python import cp_model\n",
    "\n",
    "model = cp_model.CpModel()\n"
   ]
  },
  {
   "cell_type": "code",
   "execution_count": 256,
   "metadata": {},
   "outputs": [
    {
     "name": "stdout",
     "output_type": "stream",
     "text": [
      "{3.0, 6.0, 8.0, 104.0, 15.0, 20.0, 88.0, 350.0}\n"
     ]
    }
   ],
   "source": [
    "sources = set(distances['source'])\n",
    "print(sources)"
   ]
  },
  {
   "cell_type": "code",
   "execution_count": 257,
   "metadata": {},
   "outputs": [
    {
     "name": "stdout",
     "output_type": "stream",
     "text": [
      "{321.0, 71.0, 72.0, 139.0, 369.0, 370.0, 52.0, 21.0, 86.0, 375.0, 345.0}\n"
     ]
    }
   ],
   "source": [
    "sinks = set(distances['sink'])\n",
    "print(sinks)"
   ]
  },
  {
   "cell_type": "code",
   "execution_count": 258,
   "metadata": {},
   "outputs": [],
   "source": [
    "x = []\n",
    "var_upper_bound = 10\n",
    "var_lower_bound = 0\n",
    "#w = []\n",
    "#for source in sources:\n",
    "#    x.append(model.NewIntVar(var_lower_bound, var_upper_bound, str(source)))\n",
    "for i in range(len(distances)):\n",
    "    \n",
    "    x.append(model.NewIntVar(var_lower_bound, var_upper_bound, distances['var_name'][i]))\n",
    "    #w.append(distances['distance'])\n",
    "    #print(\"var_name = \",var_name)\n",
    "    \n",
    "w = [int(10000*y) for y in distances['distance']]"
   ]
  },
  {
   "cell_type": "code",
   "execution_count": 259,
   "metadata": {},
   "outputs": [
    {
     "data": {
      "text/plain": [
       "[8, 7, 8, 4, 4, 4, 5, 4]"
      ]
     },
     "execution_count": 259,
     "metadata": {},
     "output_type": "execute_result"
    }
   ],
   "source": [
    "sourceflow = source_flow['net']\n",
    "srcflow = [int(x) for x in sourceflow]\n",
    "srcflow"
   ]
  },
  {
   "cell_type": "code",
   "execution_count": 260,
   "metadata": {},
   "outputs": [
    {
     "data": {
      "text/plain": [
       "[-4, -4, -4, -4, -4, -4, -4, -5, -4, -4, -4]"
      ]
     },
     "execution_count": 260,
     "metadata": {},
     "output_type": "execute_result"
    }
   ],
   "source": [
    "sinkflow = sink_flow['net']\n",
    "snkflow = [int(x) for x in sinkflow]\n",
    "snkflow"
   ]
  },
  {
   "cell_type": "code",
   "execution_count": 261,
   "metadata": {},
   "outputs": [],
   "source": [
    "model.Minimize(np.dot(x,w))"
   ]
  },
  {
   "cell_type": "code",
   "execution_count": 262,
   "metadata": {},
   "outputs": [],
   "source": [
    "for k in range(len(sources)):\n",
    "    j = len(sinks) * k\n",
    "    z = int(3 - srcflow[k])\n",
    "    zz = int(-3 - srcflow[k])\n",
    "    \n",
    "    model.Add(- sum([x[i] for i in range(j,j+len(sinks))])  -z <= 0) \n",
    "    model.Add(- sum([x[i] for i in range(j,j+len(sinks))]) -zz >= 0)\n",
    "\n"
   ]
  },
  {
   "cell_type": "code",
   "execution_count": 263,
   "metadata": {},
   "outputs": [],
   "source": [
    "for k in range(len(sinks)):\n",
    "    #print([[k+i*len(sinks)] for i in range(0, len(sources))])\n",
    "    \n",
    "    model.Add(sum([x[k+i*len(sinks)] for i in range(0, len(sources))]) + snkflow[k] <=3 ) \n",
    "    model.Add(sum([x[k+i*len(sinks)] for i in range(0, len(sources))]) + snkflow[k] >=-3 )\n",
    "\n"
   ]
  },
  {
   "cell_type": "code",
   "execution_count": 264,
   "metadata": {},
   "outputs": [
    {
     "name": "stdout",
     "output_type": "stream",
     "text": [
      "Minimun of objective function: 3402\n",
      "\n"
     ]
    },
    {
     "data": {
      "text/html": [
       "<div>\n",
       "<style scoped>\n",
       "    .dataframe tbody tr th:only-of-type {\n",
       "        vertical-align: middle;\n",
       "    }\n",
       "\n",
       "    .dataframe tbody tr th {\n",
       "        vertical-align: top;\n",
       "    }\n",
       "\n",
       "    .dataframe thead th {\n",
       "        text-align: right;\n",
       "    }\n",
       "</style>\n",
       "<table border=\"1\" class=\"dataframe\">\n",
       "  <thead>\n",
       "    <tr style=\"text-align: right;\">\n",
       "      <th></th>\n",
       "      <th>21</th>\n",
       "      <th>52</th>\n",
       "      <th>71</th>\n",
       "      <th>72</th>\n",
       "      <th>86</th>\n",
       "      <th>139</th>\n",
       "      <th>321</th>\n",
       "      <th>345</th>\n",
       "      <th>369</th>\n",
       "      <th>370</th>\n",
       "      <th>375</th>\n",
       "    </tr>\n",
       "  </thead>\n",
       "  <tbody>\n",
       "    <tr>\n",
       "      <th>3</th>\n",
       "      <td>0</td>\n",
       "      <td>0</td>\n",
       "      <td>0</td>\n",
       "      <td>0</td>\n",
       "      <td>0</td>\n",
       "      <td>0</td>\n",
       "      <td>5</td>\n",
       "      <td>0</td>\n",
       "      <td>0</td>\n",
       "      <td>0</td>\n",
       "      <td>0</td>\n",
       "    </tr>\n",
       "    <tr>\n",
       "      <th>6</th>\n",
       "      <td>0</td>\n",
       "      <td>1</td>\n",
       "      <td>0</td>\n",
       "      <td>0</td>\n",
       "      <td>0</td>\n",
       "      <td>0</td>\n",
       "      <td>0</td>\n",
       "      <td>0</td>\n",
       "      <td>1</td>\n",
       "      <td>1</td>\n",
       "      <td>1</td>\n",
       "    </tr>\n",
       "    <tr>\n",
       "      <th>8</th>\n",
       "      <td>5</td>\n",
       "      <td>0</td>\n",
       "      <td>0</td>\n",
       "      <td>0</td>\n",
       "      <td>0</td>\n",
       "      <td>0</td>\n",
       "      <td>0</td>\n",
       "      <td>0</td>\n",
       "      <td>0</td>\n",
       "      <td>0</td>\n",
       "      <td>0</td>\n",
       "    </tr>\n",
       "    <tr>\n",
       "      <th>15</th>\n",
       "      <td>1</td>\n",
       "      <td>0</td>\n",
       "      <td>0</td>\n",
       "      <td>0</td>\n",
       "      <td>0</td>\n",
       "      <td>0</td>\n",
       "      <td>0</td>\n",
       "      <td>0</td>\n",
       "      <td>0</td>\n",
       "      <td>0</td>\n",
       "      <td>0</td>\n",
       "    </tr>\n",
       "    <tr>\n",
       "      <th>20</th>\n",
       "      <td>1</td>\n",
       "      <td>0</td>\n",
       "      <td>0</td>\n",
       "      <td>0</td>\n",
       "      <td>0</td>\n",
       "      <td>0</td>\n",
       "      <td>0</td>\n",
       "      <td>0</td>\n",
       "      <td>0</td>\n",
       "      <td>0</td>\n",
       "      <td>0</td>\n",
       "    </tr>\n",
       "    <tr>\n",
       "      <th>88</th>\n",
       "      <td>0</td>\n",
       "      <td>0</td>\n",
       "      <td>1</td>\n",
       "      <td>1</td>\n",
       "      <td>1</td>\n",
       "      <td>0</td>\n",
       "      <td>0</td>\n",
       "      <td>0</td>\n",
       "      <td>0</td>\n",
       "      <td>0</td>\n",
       "      <td>0</td>\n",
       "    </tr>\n",
       "    <tr>\n",
       "      <th>104</th>\n",
       "      <td>0</td>\n",
       "      <td>0</td>\n",
       "      <td>0</td>\n",
       "      <td>0</td>\n",
       "      <td>0</td>\n",
       "      <td>0</td>\n",
       "      <td>0</td>\n",
       "      <td>2</td>\n",
       "      <td>0</td>\n",
       "      <td>0</td>\n",
       "      <td>0</td>\n",
       "    </tr>\n",
       "    <tr>\n",
       "      <th>350</th>\n",
       "      <td>0</td>\n",
       "      <td>0</td>\n",
       "      <td>0</td>\n",
       "      <td>0</td>\n",
       "      <td>0</td>\n",
       "      <td>1</td>\n",
       "      <td>0</td>\n",
       "      <td>0</td>\n",
       "      <td>0</td>\n",
       "      <td>0</td>\n",
       "      <td>0</td>\n",
       "    </tr>\n",
       "  </tbody>\n",
       "</table>\n",
       "</div>"
      ],
      "text/plain": [
       "     21   52   71   72   86   139  321  345  369  370  375\n",
       "3      0    0    0    0    0    0    5    0    0    0    0\n",
       "6      0    1    0    0    0    0    0    0    1    1    1\n",
       "8      5    0    0    0    0    0    0    0    0    0    0\n",
       "15     1    0    0    0    0    0    0    0    0    0    0\n",
       "20     1    0    0    0    0    0    0    0    0    0    0\n",
       "88     0    0    1    1    1    0    0    0    0    0    0\n",
       "104    0    0    0    0    0    0    0    2    0    0    0\n",
       "350    0    0    0    0    0    1    0    0    0    0    0"
      ]
     },
     "execution_count": 264,
     "metadata": {},
     "output_type": "execute_result"
    }
   ],
   "source": [
    "solver = cp_model.CpSolver()\n",
    "status = solver.Solve(model)\n",
    "xx = []\n",
    "if status == cp_model.OPTIMAL:\n",
    "    print('Minimun of objective function: %i' % solver.ObjectiveValue())\n",
    "    print()\n",
    "    for i in range(len(distances)):\n",
    "        \n",
    "        #print('x value: ', solver.Value(x[i]))\n",
    "        xx.append(solver.Value(x[i]))\n",
    "arr = np.array(xx)\n",
    "arr.shape = (len(sources), len(sinks))\n",
    "new_df = pd.DataFrame(arr, index=source_flow.index.values)  \n",
    "new_df.columns = sink_flow.index.values\n",
    "new_df"
   ]
  },
  {
   "cell_type": "code",
   "execution_count": null,
   "metadata": {},
   "outputs": [],
   "source": []
  },
  {
   "cell_type": "code",
   "execution_count": null,
   "metadata": {},
   "outputs": [],
   "source": []
  },
  {
   "cell_type": "code",
   "execution_count": null,
   "metadata": {},
   "outputs": [],
   "source": []
  }
 ],
 "metadata": {
  "kernelspec": {
   "display_name": "Python 3",
   "language": "python",
   "name": "python3"
  },
  "language_info": {
   "codemirror_mode": {
    "name": "ipython",
    "version": 3
   },
   "file_extension": ".py",
   "mimetype": "text/x-python",
   "name": "python",
   "nbconvert_exporter": "python",
   "pygments_lexer": "ipython3",
   "version": "3.7.1"
  }
 },
 "nbformat": 4,
 "nbformat_minor": 2
}
