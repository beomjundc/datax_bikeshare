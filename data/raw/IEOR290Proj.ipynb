{
 "cells": [
  {
   "cell_type": "code",
   "execution_count": 1,
   "metadata": {},
   "outputs": [
    {
     "data": {
      "text/html": [
       "<style>.container { width:90% !important; }</style>"
      ],
      "text/plain": [
       "<IPython.core.display.HTML object>"
      ]
     },
     "metadata": {},
     "output_type": "display_data"
    }
   ],
   "source": [
    "### this is just a misc. code for data observation and some web scraping\n",
    "from IPython.core.display import display, HTML\n",
    "display(HTML(\"<style>.container { width:90% !important; }</style>\"))\n",
    "#from __future__ import division, print_function\n",
    "import requests\n",
    "import bs4 as bs\n",
    "from collections import Counter"
   ]
  },
  {
   "cell_type": "code",
   "execution_count": 2,
   "metadata": {},
   "outputs": [
    {
     "name": "stdout",
     "output_type": "stream",
     "text": [
      "['https://www.wunderground.com/weatherstation/WXDailyHistory.asp?ID=KCASOUTH124&graphspan=day&month=1&day=1&year=2019&format=1&_ga=2.59272430.252223254.1554579164-2142721326.1554579164', 'https://www.wunderground.com/weatherstation/WXDailyHistory.asp?ID=KCASOUTH124&graphspan=day&month=1&day=2&year=2019&format=1&_ga=2.59272430.252223254.1554579164-2142721326.1554579164', 'https://www.wunderground.com/weatherstation/WXDailyHistory.asp?ID=KCASOUTH124&graphspan=day&month=1&day=3&year=2019&format=1&_ga=2.59272430.252223254.1554579164-2142721326.1554579164', 'https://www.wunderground.com/weatherstation/WXDailyHistory.asp?ID=KCASOUTH124&graphspan=day&month=1&day=4&year=2019&format=1&_ga=2.59272430.252223254.1554579164-2142721326.1554579164', 'https://www.wunderground.com/weatherstation/WXDailyHistory.asp?ID=KCASOUTH124&graphspan=day&month=1&day=5&year=2019&format=1&_ga=2.59272430.252223254.1554579164-2142721326.1554579164', 'https://www.wunderground.com/weatherstation/WXDailyHistory.asp?ID=KCASOUTH124&graphspan=day&month=1&day=6&year=2019&format=1&_ga=2.59272430.252223254.1554579164-2142721326.1554579164', 'https://www.wunderground.com/weatherstation/WXDailyHistory.asp?ID=KCASOUTH124&graphspan=day&month=1&day=7&year=2019&format=1&_ga=2.59272430.252223254.1554579164-2142721326.1554579164', 'https://www.wunderground.com/weatherstation/WXDailyHistory.asp?ID=KCASOUTH124&graphspan=day&month=1&day=8&year=2019&format=1&_ga=2.59272430.252223254.1554579164-2142721326.1554579164', 'https://www.wunderground.com/weatherstation/WXDailyHistory.asp?ID=KCASOUTH124&graphspan=day&month=1&day=9&year=2019&format=1&_ga=2.59272430.252223254.1554579164-2142721326.1554579164', 'https://www.wunderground.com/weatherstation/WXDailyHistory.asp?ID=KCASOUTH124&graphspan=day&month=1&day=10&year=2019&format=1&_ga=2.59272430.252223254.1554579164-2142721326.1554579164', 'https://www.wunderground.com/weatherstation/WXDailyHistory.asp?ID=KCASOUTH124&graphspan=day&month=1&day=11&year=2019&format=1&_ga=2.59272430.252223254.1554579164-2142721326.1554579164', 'https://www.wunderground.com/weatherstation/WXDailyHistory.asp?ID=KCASOUTH124&graphspan=day&month=1&day=12&year=2019&format=1&_ga=2.59272430.252223254.1554579164-2142721326.1554579164', 'https://www.wunderground.com/weatherstation/WXDailyHistory.asp?ID=KCASOUTH124&graphspan=day&month=1&day=13&year=2019&format=1&_ga=2.59272430.252223254.1554579164-2142721326.1554579164', 'https://www.wunderground.com/weatherstation/WXDailyHistory.asp?ID=KCASOUTH124&graphspan=day&month=1&day=14&year=2019&format=1&_ga=2.59272430.252223254.1554579164-2142721326.1554579164', 'https://www.wunderground.com/weatherstation/WXDailyHistory.asp?ID=KCASOUTH124&graphspan=day&month=1&day=15&year=2019&format=1&_ga=2.59272430.252223254.1554579164-2142721326.1554579164', 'https://www.wunderground.com/weatherstation/WXDailyHistory.asp?ID=KCASOUTH124&graphspan=day&month=1&day=16&year=2019&format=1&_ga=2.59272430.252223254.1554579164-2142721326.1554579164', 'https://www.wunderground.com/weatherstation/WXDailyHistory.asp?ID=KCASOUTH124&graphspan=day&month=1&day=17&year=2019&format=1&_ga=2.59272430.252223254.1554579164-2142721326.1554579164', 'https://www.wunderground.com/weatherstation/WXDailyHistory.asp?ID=KCASOUTH124&graphspan=day&month=1&day=18&year=2019&format=1&_ga=2.59272430.252223254.1554579164-2142721326.1554579164', 'https://www.wunderground.com/weatherstation/WXDailyHistory.asp?ID=KCASOUTH124&graphspan=day&month=1&day=19&year=2019&format=1&_ga=2.59272430.252223254.1554579164-2142721326.1554579164', 'https://www.wunderground.com/weatherstation/WXDailyHistory.asp?ID=KCASOUTH124&graphspan=day&month=1&day=20&year=2019&format=1&_ga=2.59272430.252223254.1554579164-2142721326.1554579164', 'https://www.wunderground.com/weatherstation/WXDailyHistory.asp?ID=KCASOUTH124&graphspan=day&month=1&day=21&year=2019&format=1&_ga=2.59272430.252223254.1554579164-2142721326.1554579164', 'https://www.wunderground.com/weatherstation/WXDailyHistory.asp?ID=KCASOUTH124&graphspan=day&month=1&day=22&year=2019&format=1&_ga=2.59272430.252223254.1554579164-2142721326.1554579164', 'https://www.wunderground.com/weatherstation/WXDailyHistory.asp?ID=KCASOUTH124&graphspan=day&month=1&day=23&year=2019&format=1&_ga=2.59272430.252223254.1554579164-2142721326.1554579164', 'https://www.wunderground.com/weatherstation/WXDailyHistory.asp?ID=KCASOUTH124&graphspan=day&month=1&day=24&year=2019&format=1&_ga=2.59272430.252223254.1554579164-2142721326.1554579164', 'https://www.wunderground.com/weatherstation/WXDailyHistory.asp?ID=KCASOUTH124&graphspan=day&month=1&day=25&year=2019&format=1&_ga=2.59272430.252223254.1554579164-2142721326.1554579164', 'https://www.wunderground.com/weatherstation/WXDailyHistory.asp?ID=KCASOUTH124&graphspan=day&month=1&day=26&year=2019&format=1&_ga=2.59272430.252223254.1554579164-2142721326.1554579164', 'https://www.wunderground.com/weatherstation/WXDailyHistory.asp?ID=KCASOUTH124&graphspan=day&month=1&day=27&year=2019&format=1&_ga=2.59272430.252223254.1554579164-2142721326.1554579164', 'https://www.wunderground.com/weatherstation/WXDailyHistory.asp?ID=KCASOUTH124&graphspan=day&month=1&day=28&year=2019&format=1&_ga=2.59272430.252223254.1554579164-2142721326.1554579164', 'https://www.wunderground.com/weatherstation/WXDailyHistory.asp?ID=KCASOUTH124&graphspan=day&month=1&day=29&year=2019&format=1&_ga=2.59272430.252223254.1554579164-2142721326.1554579164', 'https://www.wunderground.com/weatherstation/WXDailyHistory.asp?ID=KCASOUTH124&graphspan=day&month=1&day=30&year=2019&format=1&_ga=2.59272430.252223254.1554579164-2142721326.1554579164', 'https://www.wunderground.com/weatherstation/WXDailyHistory.asp?ID=KCASOUTH124&graphspan=day&month=1&day=31&year=2019&format=1&_ga=2.59272430.252223254.1554579164-2142721326.1554579164']\n",
      "<_io.StringIO object at 0x000002912BF59EE8>\n",
      "<_io.StringIO object at 0x000002912A5A0E58>\n",
      "<_io.StringIO object at 0x000002912BC98828>\n",
      "<_io.StringIO object at 0x000002912BF59C18>\n",
      "<_io.StringIO object at 0x000002912BF598B8>\n",
      "<_io.StringIO object at 0x000002912A5A0E58>\n",
      "<_io.StringIO object at 0x000002912BC98828>\n",
      "<_io.StringIO object at 0x000002912BF59B88>\n",
      "<_io.StringIO object at 0x000002912BF59EE8>\n",
      "<_io.StringIO object at 0x000002912A5A0E58>\n",
      "<_io.StringIO object at 0x000002912BC98828>\n",
      "<_io.StringIO object at 0x000002912BF59C18>\n",
      "<_io.StringIO object at 0x000002912BF598B8>\n",
      "<_io.StringIO object at 0x000002912A5A0E58>\n",
      "<_io.StringIO object at 0x000002912BC98828>\n",
      "<_io.StringIO object at 0x000002912BF59B88>\n",
      "<_io.StringIO object at 0x000002912BF59EE8>\n",
      "<_io.StringIO object at 0x000002912A5A0E58>\n",
      "<_io.StringIO object at 0x000002912BC98828>\n",
      "<_io.StringIO object at 0x000002912BF38708>\n",
      "<_io.StringIO object at 0x000002912BF598B8>\n",
      "<_io.StringIO object at 0x000002912BF59CA8>\n",
      "<_io.StringIO object at 0x000002912BCA9678>\n",
      "<_io.StringIO object at 0x000002912BF38708>\n",
      "<_io.StringIO object at 0x000002912BF59EE8>\n",
      "<_io.StringIO object at 0x000002912BF59C18>\n",
      "<_io.StringIO object at 0x000002912BCA9678>\n",
      "<_io.StringIO object at 0x000002912BF38708>\n",
      "<_io.StringIO object at 0x000002912BF598B8>\n",
      "<_io.StringIO object at 0x000002912BF59CA8>\n",
      "<_io.StringIO object at 0x000002912BCA9678>\n"
     ]
    }
   ],
   "source": [
    "### getting hourly weather using weather underground api\n",
    "import re\n",
    "import csv\n",
    "from io import StringIO\n",
    "urlLinks = []\n",
    "for i in range (1,32,1):\n",
    "    link = 'https://www.wunderground.com/weatherstation/WXDailyHistory.asp?ID=KCASOUTH124&graphspan=day&month=1&day=' +str(i)+'&year=2019&format=1&_ga=2.59272430.252223254.1554579164-2142721326.1554579164'\n",
    "    urlLinks.append(link) \n",
    "print(urlLinks)\n",
    "\n",
    "for l in urlLinks:\n",
    "    source = requests.get(l)\n",
    "    soup = bs.BeautifulSoup(source.content, features='html.parser')\n",
    "    text =soup.text\n",
    "    \n",
    "    s = StringIO(text)\n",
    "    print(s)\n",
    "    with open('2019JanWeather.csv', 'w') as f:\n",
    "        for line in s:\n",
    "            f.write(line)"
   ]
  },
  {
   "cell_type": "code",
   "execution_count": 3,
   "metadata": {},
   "outputs": [],
   "source": [
    "###some data exploration using bike trip data 2019-01, just some graph of analysis\n",
    "### most of the queries has been processed through bigquery, result has been exported to local\n",
    "import numpy as np\n",
    "import pandas as pd\n",
    "import datetime as dt\n",
    "import matplotlib.pyplot as plt\n",
    "import warnings\n",
    "\n",
    "warnings.filterwarnings(\"ignore\")"
   ]
  },
  {
   "cell_type": "code",
   "execution_count": 5,
   "metadata": {},
   "outputs": [],
   "source": [
    "df = pd.read_csv('weekday_count.csv')\n"
   ]
  },
  {
   "cell_type": "code",
   "execution_count": 12,
   "metadata": {},
   "outputs": [
    {
     "data": {
      "text/plain": [
       "<BarContainer object of 7 artists>"
      ]
     },
     "execution_count": 12,
     "metadata": {},
     "output_type": "execute_result"
    },
    {
     "data": {
      "image/png": "[encoded data removed]",
      "text/plain": [
       "<Figure size 432x288 with 1 Axes>"
      ]
     },
     "metadata": {
      "needs_background": "light"
     },
     "output_type": "display_data"
    }
   ],
   "source": [
    "val = df['count']\n",
    "index = df['weekday']\n",
    "plt.bar(index,val,align='center')\n"
   ]
  },
  {
   "cell_type": "code",
   "execution_count": 14,
   "metadata": {},
   "outputs": [],
   "source": [
    "## data exploration on the windSpeed\n",
    "df2 = pd.read_csv('windSpeed.csv')"
   ]
  },
  {
   "cell_type": "code",
   "execution_count": 15,
   "metadata": {},
   "outputs": [
    {
     "data": {
      "text/plain": [
       "<BarContainer object of 29 artists>"
      ]
     },
     "execution_count": 15,
     "metadata": {},
     "output_type": "execute_result"
    },
    {
     "data": {
      "image/png": "[encoded data removed]",
      "text/plain": [
       "<Figure size 432x288 with 1 Axes>"
      ]
     },
     "metadata": {
      "needs_background": "light"
     },
     "output_type": "display_data"
    }
   ],
   "source": [
    "val = df2['count']\n",
    "index = df2['wind']\n",
    "plt.bar(index,val,align='center')"
   ]
  },
  {
   "cell_type": "code",
   "execution_count": 16,
   "metadata": {},
   "outputs": [
    {
     "data": {
      "image/png": "[encoded data removed]",
      "text/plain": [
       "<Figure size 432x288 with 1 Axes>"
      ]
     },
     "metadata": {},
     "output_type": "display_data"
    }
   ],
   "source": [
    "##pie chart on weather data is wet/dry\n",
    "##very simple result, no need to import. dryday: 138514 wetday: 4577\n",
    "labels = ['DryWeather', 'WetWeather']\n",
    "sizes = [138514,4577]\n",
    "colors = ['yellowgreen', 'lightskyblue']\n",
    "patches, texts = plt.pie(sizes, colors=colors, shadow=True, startangle=90)\n",
    "plt.legend(patches, labels, loc=\"best\")\n",
    "plt.axis('equal')\n",
    "plt.tight_layout()\n",
    "plt.show()"
   ]
  },
  {
   "cell_type": "code",
   "execution_count": null,
   "metadata": {},
   "outputs": [],
   "source": []
  }
 ],
 "metadata": {
  "kernelspec": {
   "display_name": "Python 3",
   "language": "python",
   "name": "python3"
  },
  "language_info": {
   "codemirror_mode": {
    "name": "ipython",
    "version": 3
   },
   "file_extension": ".py",
   "mimetype": "text/x-python",
   "name": "python",
   "nbconvert_exporter": "python",
   "pygments_lexer": "ipython3",
   "version": "3.6.7"
  }
 },
 "nbformat": 4,
 "nbformat_minor": 2
}
