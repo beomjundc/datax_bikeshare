{
 "cells": [
  {
   "cell_type": "code",
   "execution_count": 1,
   "metadata": {},
   "outputs": [],
   "source": [
    "# Import libraries\n",
    "import numpy as np\n",
    "import pandas as pd\n",
    "from sklearn import metrics\n",
    "import matplotlib.pyplot as plt\n",
    "import warnings\n",
    "warnings.simplefilter(\"ignore\")"
   ]
  },
  {
   "cell_type": "code",
   "execution_count": 2,
   "metadata": {},
   "outputs": [
    {
     "data": {
      "text/plain": [
       "152"
      ]
     },
     "execution_count": 2,
     "metadata": {},
     "output_type": "execute_result"
    }
   ],
   "source": [
    "# Read in the trip summary data\n",
    "file_path = '../data/trip_summary_201901.csv'\n",
    "trips = pd.read_csv(file_path)\n",
    "trips = trips.dropna(how=\"any\")\n",
    "\n",
    "trips['start_station_id'].nunique()"
   ]
  },
  {
   "cell_type": "code",
   "execution_count": 3,
   "metadata": {},
   "outputs": [],
   "source": [
    "# Create station pair identifiers and group the data\n",
    "\n",
    "# Function: sorts the pair array and concatenates them to create a unique ID\n",
    "def sort_concat(arr):\n",
    "    arr_sorted = np.sort(arr)\n",
    "    pair_id = str(arr_sorted[0]) + '_' + str(arr_sorted[1])\n",
    "    \n",
    "    return pair_id\n",
    "\n",
    "pair_id = trips[['start_station_id', 'end_station_id']].values\n",
    "pair_id_sorted = list(map(sort_concat, pair_id))\n",
    "\n",
    "trips['station_pair_id'] = pair_id_sorted"
   ]
  },
  {
   "cell_type": "code",
   "execution_count": 4,
   "metadata": {},
   "outputs": [],
   "source": [
    "# Create an affinity matrix from the data\n",
    "pair_trips = trips.groupby('station_pair_id', as_index=False)['trip_count'].sum()\n",
    "pair_trips['station_i'] = pair_trips['station_pair_id'].str.split(\"_\", n = 1, expand = True)[0]\n",
    "pair_trips['station_j'] = pair_trips['station_pair_id'].str.split(\"_\", n = 1, expand = True)[1]\n",
    "intercluster_volume = pair_trips\n",
    "pair_trips['trip_count_inv'] = 1 / pair_trips['trip_count']\n",
    "\n",
    "pair_trips['station_i'] = pd.to_numeric(pair_trips['station_i']).astype(np.int64)\n",
    "pair_trips['station_j'] = pd.to_numeric(pair_trips['station_j']).astype(np.int64)\n",
    "\n",
    "stations_sorted = pair_trips.sort_values(['station_i'])['station_i'].unique()\n",
    "pair_trips = pair_trips.sort_values(['station_i'])\n",
    "\n",
    "\n",
    "# Generate affinity matrix from pair_trips\n",
    "upp_mat = pair_trips.set_index(['station_i','station_j'])['trip_count_inv'].unstack().values\n",
    "\n",
    "aff_mat = np.triu(upp_mat) + np.triu(upp_mat, 1).T\n",
    "aff_mat[np.isnan(aff_mat)] = 0\n",
    "\n",
    "# Create an similarity matrix from the data\n",
    "beta = 1\n",
    "sim_mat = np.exp(-beta * aff_mat / aff_mat.std(ddof=0))"
   ]
  },
  {
   "cell_type": "code",
   "execution_count": 7,
   "metadata": {},
   "outputs": [
    {
     "name": "stdout",
     "output_type": "stream",
     "text": [
      "Number of clusters =  2     volume = 37719.0     score  = 0.053761473371410545\n",
      "Number of clusters =  3     volume = 58359.0     score  = 0.04527201258571525\n",
      "Number of clusters =  4     volume = 73586.0     score  = 0.0218601924828472\n",
      "Number of clusters =  5     volume = 85716.0     score  = 0.006335311662793748\n",
      "Number of clusters =  6     volume = 89743.0     score  = -0.0003594316404565124\n",
      "Number of clusters =  7     volume = 88056.0     score  = -0.006704237332936469\n",
      "Number of clusters =  8     volume = 94446.0     score  = 0.011622667462253041\n",
      "Number of clusters =  9     volume = 104891.0     score  = -0.00418999572635083\n",
      "Number of clusters =  10     volume = 103235.0     score  = -0.00732052877491758\n"
     ]
    }
   ],
   "source": [
    "# Spectral clustering on the affinity matrix\n",
    "from sklearn.cluster import SpectralClustering\n",
    "from sklearn import metrics\n",
    "\n",
    "i = 2\n",
    "score_tracking = []\n",
    "while i <= 10:\n",
    "\n",
    "    sc = SpectralClustering(i, affinity='precomputed', n_init=100, assign_labels='discretize')\n",
    "    clusters = sc.fit_predict(sim_mat)\n",
    "    \n",
    "    # select start station and trip count to new dataframe\n",
    "    intercluster_volume = intercluster_volume[['station_i','station_j', 'trip_count']]\n",
    "\n",
    "    #define a mapping dictionary\n",
    "    cluster_dict = dict(zip(stations_sorted, clusters))\n",
    "\n",
    "    # map the clusters to the starting stations\n",
    "    intercluster_volume['cluster_i'] = intercluster_volume['station_i'].map(cluster_dict)\n",
    "    intercluster_volume['cluster_j'] = intercluster_volume['station_j'].map(cluster_dict)\n",
    "\n",
    "    intercluster_volume.loc[intercluster_volume.cluster_i == intercluster_volume.cluster_j, 'intercluster_trip'] = 0 \n",
    "    intercluster_volume.loc[intercluster_volume.cluster_i != intercluster_volume.cluster_j, 'intercluster_trip'] = 1 \n",
    "\n",
    "    intercluster_volume['intercluster_volume'] = intercluster_volume['intercluster_trip']*intercluster_volume['trip_count']\n",
    "    \n",
    "    score = metrics.silhouette_score(sim_mat, clusters)\n",
    "    \n",
    "    print('Number of clusters = ',i,'    volume =',intercluster_volume['intercluster_volume'].sum(), '    score  =', score)\n",
    "    score_tracking.append([score, i, clusters])\n",
    "    \n",
    "\n",
    "    i = i + 1\n",
    "    \n",
    "best_cluster = score_tracking[score_tracking.index(max(score_tracking))][2]\n",
    "num_clustes = score_tracking[score_tracking.index(max(score_tracking))][1]\n"
   ]
  },
  {
   "cell_type": "code",
   "execution_count": 8,
   "metadata": {},
   "outputs": [
    {
     "data": {
      "text/html": [
       "<div>\n",
       "<style scoped>\n",
       "    .dataframe tbody tr th:only-of-type {\n",
       "        vertical-align: middle;\n",
       "    }\n",
       "\n",
       "    .dataframe tbody tr th {\n",
       "        vertical-align: top;\n",
       "    }\n",
       "\n",
       "    .dataframe thead th {\n",
       "        text-align: right;\n",
       "    }\n",
       "</style>\n",
       "<table border=\"1\" class=\"dataframe\">\n",
       "  <thead>\n",
       "    <tr style=\"text-align: right;\">\n",
       "      <th></th>\n",
       "      <th>station_id</th>\n",
       "      <th>station_name</th>\n",
       "      <th>station_latitude</th>\n",
       "      <th>station_longitude</th>\n",
       "      <th>cluster</th>\n",
       "    </tr>\n",
       "  </thead>\n",
       "  <tbody>\n",
       "    <tr>\n",
       "      <th>0</th>\n",
       "      <td>109</td>\n",
       "      <td>17th St at Valencia St</td>\n",
       "      <td>37.763316</td>\n",
       "      <td>-122.421904</td>\n",
       "      <td>1</td>\n",
       "    </tr>\n",
       "    <tr>\n",
       "      <th>1</th>\n",
       "      <td>118</td>\n",
       "      <td>Eureka Valley Recreation Center</td>\n",
       "      <td>37.759177</td>\n",
       "      <td>-122.436943</td>\n",
       "      <td>1</td>\n",
       "    </tr>\n",
       "    <tr>\n",
       "      <th>2</th>\n",
       "      <td>119</td>\n",
       "      <td>18th St at Noe St</td>\n",
       "      <td>37.761047</td>\n",
       "      <td>-122.432642</td>\n",
       "      <td>1</td>\n",
       "    </tr>\n",
       "    <tr>\n",
       "      <th>3</th>\n",
       "      <td>120</td>\n",
       "      <td>Mission Dolores Park</td>\n",
       "      <td>37.761420</td>\n",
       "      <td>-122.426435</td>\n",
       "      <td>1</td>\n",
       "    </tr>\n",
       "    <tr>\n",
       "      <th>4</th>\n",
       "      <td>121</td>\n",
       "      <td>Mission Playground</td>\n",
       "      <td>37.759210</td>\n",
       "      <td>-122.421339</td>\n",
       "      <td>1</td>\n",
       "    </tr>\n",
       "  </tbody>\n",
       "</table>\n",
       "</div>"
      ],
      "text/plain": [
       "   station_id                     station_name  station_latitude  \\\n",
       "0         109           17th St at Valencia St         37.763316   \n",
       "1         118  Eureka Valley Recreation Center         37.759177   \n",
       "2         119                18th St at Noe St         37.761047   \n",
       "3         120             Mission Dolores Park         37.761420   \n",
       "4         121               Mission Playground         37.759210   \n",
       "\n",
       "   station_longitude  cluster  \n",
       "0        -122.421904        1  \n",
       "1        -122.436943        1  \n",
       "2        -122.432642        1  \n",
       "3        -122.426435        1  \n",
       "4        -122.421339        1  "
      ]
     },
     "execution_count": 8,
     "metadata": {},
     "output_type": "execute_result"
    }
   ],
   "source": [
    "station_clustered = list(zip(stations_sorted, best_cluster))\n",
    "df_station_clustered = pd.DataFrame(station_clustered)\n",
    "df_station_clustered.rename(columns={0:'station_id',\n",
    "                                    1: 'cluster'},inplace=True)\n",
    "\n",
    "start = trips[['start_station_id', 'start_station_name', 'start_station_latitude', 'start_station_longitude']].drop_duplicates().rename(columns = {'start_station_id':'station_id', \\\n",
    "                                                 'start_station_name':'station_name', \\\n",
    "                                                 'start_station_latitude':'station_latitude', \n",
    "                                                 'start_station_longitude': 'station_longitude'})\n",
    "\n",
    "end = trips[['end_station_id', 'end_station_name', 'end_station_latitude', 'end_station_longitude']].drop_duplicates().rename(columns = {'end_station_id':'station_id', \\\n",
    "                                             'end_station_name':'station_name', \\\n",
    "                                             'end_station_latitude':'station_latitude', \\\n",
    "                                             'end_station_longitude': 'station_longitude'})\n",
    "\n",
    "df_loc = pd.concat([start, end]).drop_duplicates()\n",
    "df_all = df_loc.merge(df_station_clustered, on=[\"station_id\"], how=\"right\")\n",
    "df_all.to_csv(\"df_station_clustered.csv\", index=None)\n",
    "df_all.head()"
   ]
  },
  {
   "cell_type": "code",
   "execution_count": 9,
   "metadata": {},
   "outputs": [],
   "source": [
    "from mpl_toolkits.basemap import Basemap\n",
    "import matplotlib.cm as cm\n",
    "\n",
    "def plot_stations_map(ax, stns):\n",
    "    # determine range to print based on min, max lat and lon of the data\n",
    "    lat = list(stns['station_latitude'])\n",
    "    lon = list(stns['station_longitude'])\n",
    "    margin = 0.01 # buffer to add to the range\n",
    "    lat_min = min(lat) - margin\n",
    "    lat_max = max(lat) + margin\n",
    "    lon_min = min(lon) - margin\n",
    "    lon_max = max(lon) + margin\n",
    "\n",
    "    # create map using BASEMAP\n",
    "    m = Basemap(llcrnrlon=lon_min,\n",
    "                llcrnrlat=lat_min,\n",
    "                urcrnrlon=lon_max,\n",
    "                urcrnrlat=lat_max,\n",
    "                lat_0=(lat_max - lat_min)/2,\n",
    "                lon_0=(lon_max - lon_min)/2,\n",
    "                projection='lcc',\n",
    "                resolution = 'f',)\n",
    "\n",
    "    m.drawcoastlines()\n",
    "    m.fillcontinents(lake_color='aqua')\n",
    "    m.drawmapboundary(fill_color='aqua')\n",
    "    m.drawrivers()    \n",
    "    \n",
    "    # plot points\n",
    "    clist = list(stns['cluster'].unique())\n",
    "    if -1 in clist:\n",
    "        clist.remove(-1)\n",
    "    k = len(clist)\n",
    "    colors = iter(cm.Set1(np.linspace(0, 1, max(10, k))))\n",
    "    for i in range(k):\n",
    "        color = next(colors)\n",
    "        df = stns.loc[stns['cluster'] == clist[i]]        \n",
    "        #print(\"Cluster {} has {} samples.\".format(clist[i], df.shape[0]))\n",
    "        \n",
    "        # convert lat and lon to map projection coordinates\n",
    "        lons, lats = m(list(df['station_longitude']), list(df['station_latitude']))        \n",
    "        ax.scatter(lons, lats, marker = 'o', color=color, edgecolor='gray', zorder=5, alpha=1.0, s=15)\n",
    "        "
   ]
  },
  {
   "cell_type": "code",
   "execution_count": 10,
   "metadata": {},
   "outputs": [
    {
     "data": {
      "image/png": "[encoded data removed]",
      "text/plain": [
       "<Figure size 1440x1080 with 1 Axes>"
      ]
     },
     "metadata": {},
     "output_type": "display_data"
    }
   ],
   "source": [
    "n = num_clustes\n",
    "plt.subplots(nrows=1, ncols=n, figsize=(20,15))\n",
    "\n",
    "ax = plt.subplot(1, 1, 1)\n",
    "ax.set_title(\"Spectral Clustering\")\n",
    "\n",
    "plot_stations_map(ax, df_all)"
   ]
  },
  {
   "cell_type": "code",
   "execution_count": null,
   "metadata": {},
   "outputs": [],
   "source": []
  },
  {
   "cell_type": "code",
   "execution_count": null,
   "metadata": {},
   "outputs": [],
   "source": []
  },
  {
   "cell_type": "code",
   "execution_count": null,
   "metadata": {},
   "outputs": [],
   "source": []
  },
  {
   "cell_type": "code",
   "execution_count": null,
   "metadata": {},
   "outputs": [],
   "source": []
  },
  {
   "cell_type": "code",
   "execution_count": null,
   "metadata": {},
   "outputs": [],
   "source": []
  }
 ],
 "metadata": {
  "kernelspec": {
   "display_name": "Python 3",
   "language": "python",
   "name": "python3"
  },
  "language_info": {
   "codemirror_mode": {
    "name": "ipython",
    "version": 3
   },
   "file_extension": ".py",
   "mimetype": "text/x-python",
   "name": "python",
   "nbconvert_exporter": "python",
   "pygments_lexer": "ipython3",
   "version": "3.7.1"
  }
 },
 "nbformat": 4,
 "nbformat_minor": 2
}
